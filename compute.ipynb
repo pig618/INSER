{
 "cells": [
  {
   "cell_type": "code",
   "execution_count": null,
   "metadata": {
    "ExecuteTime": {
     "end_time": "2023-01-03T21:42:13.258946Z",
     "start_time": "2023-01-03T21:42:12.363291Z"
    }
   },
   "outputs": [],
   "source": [
    "import os\n",
    "print(os.getcwd())\n",
    "\n",
    "from build_model import *"
   ]
  },
  {
   "cell_type": "code",
   "execution_count": null,
   "metadata": {
    "ExecuteTime": {
     "end_time": "2023-01-03T21:43:03.429529Z",
     "start_time": "2023-01-03T21:42:23.669977Z"
    },
    "colab": {
     "base_uri": "https://localhost:8080/"
    },
    "executionInfo": {
     "elapsed": 127212,
     "status": "ok",
     "timestamp": 1671296278164,
     "user": {
      "displayName": "Haoxuan [Peter] Wu",
      "userId": "09135652591918716343"
     },
     "user_tz": 360
    },
    "id": "YoG6MCahmJCH",
    "outputId": "a153e8f7-4253-4aa2-ccf3-076783451845"
   },
   "outputs": [],
   "source": [
    "args = generic.init_args()\n",
    "args[\"model_path\"] = \"models/rnn_market_model.pt\"\n",
    "args[\"gen_path\"] = \"models/rnn_gen_model.pt\"\n",
    "args[\"num_gpus\"] = 0\n",
    "\n",
    "args[\"epochs\"] = 2  # debug: 2, normal: 100\n",
    "\n",
    "with open(\"data/data.pkl\", \"rb\") as file:\n",
    "    data = pickle.load(file)\n",
    "\n",
    "init_date = pd.to_datetime(\"20140101\", format=\"%Y%m%d\")\n",
    "fin_date = pd.to_datetime(\"20160531\", format=\"%Y%m%d\")\n",
    "# 20160601 - 20161231 is left out for testing\n",
    "\n",
    "# Change ind_foc industry codes to include different industries here\n",
    "od, date_count = load_data(\n",
    "    data, init_date, fin_date, \n",
    "    ind_foc=(\"itech\", )\n",
    ")\n",
    "\n",
    "sel_ret = load_market_data('data/ff5_daily_clean.csv')\n",
    "documents, ky_ret, ky_dates = prepare_data(\n",
    "    data, sel_ret, date_count\n",
    ")\n",
    "\n",
    "word2embedding, embedding_dim = load_glove_embedding(\n",
    "    'data/glove.6B.100d.txt'\n",
    ")\n",
    "preprocess_documents(documents, word2embedding)\n",
    "\n",
    "word_thres = 10\n",
    "vocab = LanguageIndex(documents, word_thres)\n",
    "pretrained_embedding = utils.get_pretained_glove(\n",
    "    vocab.word2idx, word2embedding, embedding_dim\n",
    ")\n",
    "pretrained_embedding = pretrained_embedding.transpose((1,0))\n",
    "\n",
    "x_tr, m_tr, y_tr, x_te, m_te, y_te = load_train_test(\n",
    "    documents, ky_ret, vocab\n",
    ")\n",
    "\n",
    "train_dataset = rnnDataset(x_tr, y_tr, m_tr)\n",
    "val_dataset = rnnDataset(x_te, y_te, m_te)\n",
    "\n",
    "model = encoder.Encoder(pretrained_embedding, args)\n",
    "gen = generator.Generator(pretrained_embedding, args)"
   ]
  },
  {
   "cell_type": "code",
   "execution_count": null,
   "metadata": {
    "ExecuteTime": {
     "end_time": "2023-01-03T21:43:38.637223Z",
     "start_time": "2023-01-03T21:43:03.431041Z"
    },
    "colab": {
     "base_uri": "https://localhost:8080/"
    },
    "id": "XoPFvzDzmSr1",
    "outputId": "f8efef89-29cd-4bb9-f43f-9c0daee2d85c"
   },
   "outputs": [],
   "source": [
    "epoch_stats, model, gen = train.train_model(\n",
    "    train_dataset, val_dataset, model, gen, args\n",
    ")"
   ]
  },
  {
   "cell_type": "code",
   "execution_count": null,
   "metadata": {
    "ExecuteTime": {
     "end_time": "2023-01-03T21:43:38.652419Z",
     "start_time": "2023-01-03T21:43:38.638764Z"
    }
   },
   "outputs": [],
   "source": [
    "torch.save(model.state_dict(), args[\"model_path\"])\n",
    "torch.save(gen.state_dict(), args[\"gen_path\"])"
   ]
  }
 ],
 "metadata": {
  "colab": {
   "provenance": []
  },
  "kernelspec": {
   "display_name": "news",
   "language": "python",
   "name": "news"
  },
  "language_info": {
   "codemirror_mode": {
    "name": "ipython",
    "version": 3
   },
   "file_extension": ".py",
   "mimetype": "text/x-python",
   "name": "python",
   "nbconvert_exporter": "python",
   "pygments_lexer": "ipython3",
   "version": "3.9.7"
  },
  "latex_envs": {
   "LaTeX_envs_menu_present": true,
   "autoclose": false,
   "autocomplete": true,
   "bibliofile": "biblio.bib",
   "cite_by": "apalike",
   "current_citInitial": 1,
   "eqLabelWithNumbers": true,
   "eqNumInitial": 1,
   "hotkeys": {
    "equation": "Ctrl-E",
    "itemize": "Ctrl-I"
   },
   "labels_anchors": false,
   "latex_user_defs": false,
   "report_style_numbering": false,
   "user_envs_cfg": false
  }
 },
 "nbformat": 4,
 "nbformat_minor": 4
}
